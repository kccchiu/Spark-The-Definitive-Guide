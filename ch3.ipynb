{
 "cells": [
  {
   "cell_type": "code",
   "execution_count": 1,
   "id": "bd4cdc2c-25dd-455b-ac02-297c7cf66ffc",
   "metadata": {},
   "outputs": [],
   "source": [
    "import pyspark"
   ]
  },
  {
   "cell_type": "markdown",
   "id": "e1d864dd-5cdf-4451-b63d-2655e80dd282",
   "metadata": {},
   "source": [
    "#### Start Spark cluster"
   ]
  },
  {
   "cell_type": "code",
   "execution_count": 2,
   "id": "29b136ae-ff57-427a-9665-f8cf1ea7cfa7",
   "metadata": {},
   "outputs": [],
   "source": [
    "from pyspark.sql import SparkSession"
   ]
  },
  {
   "cell_type": "code",
   "execution_count": 3,
   "id": "6a9085a3-a9f1-4fa3-990f-d1f543429183",
   "metadata": {},
   "outputs": [],
   "source": [
    "spark =SparkSession.builder.getOrCreate()"
   ]
  },
  {
   "cell_type": "code",
   "execution_count": 4,
   "id": "21ba3272-04db-400f-a0a8-c7782c67a899",
   "metadata": {},
   "outputs": [],
   "source": [
    "spark = SparkSession.builder.appName('Practice').getOrCreate()"
   ]
  },
  {
   "cell_type": "code",
   "execution_count": 5,
   "id": "f064f32d-f2b6-4623-a167-550d7b2d4662",
   "metadata": {},
   "outputs": [
    {
     "data": {
      "text/plain": [
       "'3.2.1'"
      ]
     },
     "execution_count": 5,
     "metadata": {},
     "output_type": "execute_result"
    }
   ],
   "source": [
    "pyspark.__version__"
   ]
  },
  {
   "cell_type": "code",
   "execution_count": 6,
   "id": "1ab99816-33d3-40a1-bea0-1319a01536d3",
   "metadata": {},
   "outputs": [
    {
     "data": {
      "text/html": [
       "\n",
       "            <div>\n",
       "                <p><b>SparkSession - in-memory</b></p>\n",
       "                \n",
       "        <div>\n",
       "            <p><b>SparkContext</b></p>\n",
       "\n",
       "            <p><a href=\"http://kinxps:4040\">Spark UI</a></p>\n",
       "\n",
       "            <dl>\n",
       "              <dt>Version</dt>\n",
       "                <dd><code>v3.2.1</code></dd>\n",
       "              <dt>Master</dt>\n",
       "                <dd><code>local[*]</code></dd>\n",
       "              <dt>AppName</dt>\n",
       "                <dd><code>pyspark-shell</code></dd>\n",
       "            </dl>\n",
       "        </div>\n",
       "        \n",
       "            </div>\n",
       "        "
      ],
      "text/plain": [
       "<pyspark.sql.session.SparkSession at 0x17176bf9e08>"
      ]
     },
     "execution_count": 6,
     "metadata": {},
     "output_type": "execute_result"
    }
   ],
   "source": [
    "spark"
   ]
  },
  {
   "cell_type": "code",
   "execution_count": 7,
   "id": "464ffdea-7503-4f84-86e6-b37b566c54e5",
   "metadata": {},
   "outputs": [],
   "source": [
    "staticDataFrame = spark.read.format(\"csv\")\\\n",
    ".option(\"header\", \"true\")\\\n",
    ".option(\"inferSchema\", \"true\")\\\n",
    ".load(\"/MyProjects/Spark-The-Definitive-Guide/data/retail-data/by-day/*.csv\")\n",
    "staticDataFrame.createOrReplaceTempView(\"retail_data\")\n",
    "staticSchema = staticDataFrame.schema"
   ]
  },
  {
   "cell_type": "code",
   "execution_count": 8,
   "id": "be16e1a2-5f04-4ed1-b19a-1f85d5925c66",
   "metadata": {},
   "outputs": [
    {
     "name": "stdout",
     "output_type": "stream",
     "text": [
      "+---------+---------+--------------------+--------+-------------------+---------+----------+--------------+\n",
      "|InvoiceNo|StockCode|         Description|Quantity|        InvoiceDate|UnitPrice|CustomerID|       Country|\n",
      "+---------+---------+--------------------+--------+-------------------+---------+----------+--------------+\n",
      "|   580538|    23084|  RABBIT NIGHT LIGHT|      48|2011-12-05 08:38:00|     1.79|   14075.0|United Kingdom|\n",
      "|   580538|    23077| DOUGHNUT LIP GLOSS |      20|2011-12-05 08:38:00|     1.25|   14075.0|United Kingdom|\n",
      "|   580538|    22906|12 MESSAGE CARDS ...|      24|2011-12-05 08:38:00|     1.65|   14075.0|United Kingdom|\n",
      "|   580538|    21914|BLUE HARMONICA IN...|      24|2011-12-05 08:38:00|     1.25|   14075.0|United Kingdom|\n",
      "|   580538|    22467|   GUMBALL COAT RACK|       6|2011-12-05 08:38:00|     2.55|   14075.0|United Kingdom|\n",
      "|   580538|    21544|SKULLS  WATER TRA...|      48|2011-12-05 08:38:00|     0.85|   14075.0|United Kingdom|\n",
      "|   580538|    23126|FELTCRAFT GIRL AM...|       8|2011-12-05 08:38:00|     4.95|   14075.0|United Kingdom|\n",
      "|   580538|    21833|CAMOUFLAGE LED TORCH|      24|2011-12-05 08:38:00|     1.69|   14075.0|United Kingdom|\n",
      "|   580539|    21479|WHITE SKULL HOT W...|       4|2011-12-05 08:39:00|     4.25|   18180.0|United Kingdom|\n",
      "|   580539|   84030E|ENGLISH ROSE HOT ...|       4|2011-12-05 08:39:00|     4.25|   18180.0|United Kingdom|\n",
      "|   580539|    23355|HOT WATER BOTTLE ...|       4|2011-12-05 08:39:00|     4.95|   18180.0|United Kingdom|\n",
      "|   580539|    22111|SCOTTIE DOG HOT W...|       3|2011-12-05 08:39:00|     4.95|   18180.0|United Kingdom|\n",
      "|   580539|    21115|ROSE CARAVAN DOOR...|       8|2011-12-05 08:39:00|     1.95|   18180.0|United Kingdom|\n",
      "|   580539|    21411|GINGHAM HEART  DO...|       8|2011-12-05 08:39:00|     1.95|   18180.0|United Kingdom|\n",
      "|   580539|    23235|STORAGE TIN VINTA...|      12|2011-12-05 08:39:00|     1.25|   18180.0|United Kingdom|\n",
      "|   580539|    23239|SET OF 4 KNICK KN...|       6|2011-12-05 08:39:00|     1.65|   18180.0|United Kingdom|\n",
      "|   580539|    22197|      POPCORN HOLDER|      36|2011-12-05 08:39:00|     0.85|   18180.0|United Kingdom|\n",
      "|   580539|    22693|GROW A FLYTRAP OR...|      24|2011-12-05 08:39:00|     1.25|   18180.0|United Kingdom|\n",
      "|   580539|    22372|AIRLINE BAG VINTA...|       4|2011-12-05 08:39:00|     4.25|   18180.0|United Kingdom|\n",
      "|   580539|    22375|AIRLINE BAG VINTA...|       4|2011-12-05 08:39:00|     4.25|   18180.0|United Kingdom|\n",
      "+---------+---------+--------------------+--------+-------------------+---------+----------+--------------+\n",
      "only showing top 20 rows\n",
      "\n"
     ]
    }
   ],
   "source": [
    "staticDataFrame.show(20)"
   ]
  },
  {
   "cell_type": "code",
   "execution_count": 9,
   "id": "b488f561-3b77-4928-a53e-20d886efdb90",
   "metadata": {},
   "outputs": [
    {
     "name": "stderr",
     "output_type": "stream",
     "text": [
      "WARNING:root:'PYARROW_IGNORE_TIMEZONE' environment variable was not set. It is required to set this environment variable to '1' in both driver and executor sides if you use pyarrow>=2.0.0. pandas-on-Spark will set it for you but it does not work if there is a Spark context already launched.\n"
     ]
    }
   ],
   "source": [
    "import pyspark.pandas as ps\n",
    "import os\n",
    "os.environ['PYARROW_IGNORE_TIMEZONE'] = '1'"
   ]
  },
  {
   "cell_type": "code",
   "execution_count": 10,
   "id": "8eb242bd-1aff-4ba8-ae30-a55aebcdc70c",
   "metadata": {},
   "outputs": [],
   "source": [
    "psdf = staticDataFrame.to_pandas_on_spark()"
   ]
  },
  {
   "cell_type": "markdown",
   "id": "4b704036-c99d-4c78-82ee-a124cfe33ce3",
   "metadata": {},
   "source": [
    "####  Agg on customer total spending, invoice date window of 1 day,  get top 5 spender"
   ]
  },
  {
   "cell_type": "code",
   "execution_count": 11,
   "id": "a2fa2d26-c7aa-4b7e-855a-df5d5c3aea3b",
   "metadata": {},
   "outputs": [
    {
     "name": "stdout",
     "output_type": "stream",
     "text": [
      "root\n",
      " |-- InvoiceNo: string (nullable = true)\n",
      " |-- StockCode: string (nullable = true)\n",
      " |-- Description: string (nullable = true)\n",
      " |-- Quantity: integer (nullable = true)\n",
      " |-- InvoiceDate: string (nullable = true)\n",
      " |-- UnitPrice: double (nullable = true)\n",
      " |-- CustomerID: double (nullable = true)\n",
      " |-- Country: string (nullable = true)\n",
      "\n"
     ]
    }
   ],
   "source": [
    "staticDataFrame.printSchema()"
   ]
  },
  {
   "cell_type": "code",
   "execution_count": 12,
   "id": "04ee13f1-69cc-491b-aa51-717bdf0f5762",
   "metadata": {},
   "outputs": [
    {
     "name": "stdout",
     "output_type": "stream",
     "text": [
      "+----------+--------------------+-----------------+\n",
      "|CustomerID|              window|  sum(total_cost)|\n",
      "+----------+--------------------+-----------------+\n",
      "|   16057.0|{2011-12-04 18:00...|            -37.6|\n",
      "|   14126.0|{2011-11-28 18:00...|643.6300000000001|\n",
      "|   13500.0|{2011-11-15 18:00...|497.9700000000001|\n",
      "|   17160.0|{2011-11-07 18:00...|516.8499999999999|\n",
      "|   15608.0|{2011-11-10 18:00...|            122.4|\n",
      "+----------+--------------------+-----------------+\n",
      "only showing top 5 rows\n",
      "\n"
     ]
    }
   ],
   "source": [
    "from pyspark.sql.functions import window, column, desc, col\n",
    "staticDataFrame.selectExpr(\"CustomerID\",\"(UnitPrice * Quantity) AS Total_Cost\",\"InvoiceDate\")\\\n",
    ".groupby(\n",
    "    col('CustomerID'), window(col('InvoiceDate'), \"1 day\"))\\\n",
    ".sum('total_cost')\\\n",
    ".show(5)"
   ]
  },
  {
   "cell_type": "markdown",
   "id": "7d9d4e32-ec01-4e20-ab0f-a0d01e411b43",
   "metadata": {},
   "source": [
    "#####  Set partitions to 5"
   ]
  },
  {
   "cell_type": "code",
   "execution_count": 13,
   "id": "bea6ee85-aaa8-480c-af68-0228440bbdf2",
   "metadata": {},
   "outputs": [],
   "source": [
    "spark.conf.set('spark.sql.shuffle.partitions', 5)"
   ]
  },
  {
   "cell_type": "markdown",
   "id": "f2f21775-42b5-4d4d-9ef7-2cd230427fbd",
   "metadata": {},
   "source": [
    "#### K-means from Mlib"
   ]
  },
  {
   "cell_type": "code",
   "execution_count": 14,
   "id": "f51f2abc-7d9c-4b99-aa64-486cda4fac7b",
   "metadata": {},
   "outputs": [
    {
     "name": "stdout",
     "output_type": "stream",
     "text": [
      "root\n",
      " |-- InvoiceNo: string (nullable = true)\n",
      " |-- StockCode: string (nullable = true)\n",
      " |-- Description: string (nullable = true)\n",
      " |-- Quantity: integer (nullable = true)\n",
      " |-- InvoiceDate: string (nullable = true)\n",
      " |-- UnitPrice: double (nullable = true)\n",
      " |-- CustomerID: double (nullable = true)\n",
      " |-- Country: string (nullable = true)\n",
      "\n"
     ]
    }
   ],
   "source": [
    "staticDataFrame.printSchema()"
   ]
  },
  {
   "cell_type": "code",
   "execution_count": 15,
   "id": "91702dc4-2ec5-4b47-aae2-f18076bf04a2",
   "metadata": {},
   "outputs": [],
   "source": [
    "from pyspark.sql.functions import date_format, col"
   ]
  },
  {
   "cell_type": "code",
   "execution_count": 16,
   "id": "42e1b88e-3d65-4b0b-90b5-004c60d0cd40",
   "metadata": {},
   "outputs": [],
   "source": [
    "#DF with day of week\n",
    "preppedDataFrame = staticDataFrame\\\n",
    ".na.fill(0)\\\n",
    ".withColumn('day_of_week', date_format(col('InvoiceDate'), 'EEEE'))\\\n",
    ".coalesce(5)"
   ]
  },
  {
   "cell_type": "code",
   "execution_count": 17,
   "id": "cfaa1890-5f52-457e-ad9a-3c67ff34f798",
   "metadata": {},
   "outputs": [
    {
     "name": "stdout",
     "output_type": "stream",
     "text": [
      "+---------+---------+--------------------+--------+-------------------+---------+----------+--------------+-----------+\n",
      "|InvoiceNo|StockCode|         Description|Quantity|        InvoiceDate|UnitPrice|CustomerID|       Country|day_of_week|\n",
      "+---------+---------+--------------------+--------+-------------------+---------+----------+--------------+-----------+\n",
      "|   580538|    23084|  RABBIT NIGHT LIGHT|      48|2011-12-05 08:38:00|     1.79|   14075.0|United Kingdom|     Monday|\n",
      "|   580538|    23077| DOUGHNUT LIP GLOSS |      20|2011-12-05 08:38:00|     1.25|   14075.0|United Kingdom|     Monday|\n",
      "|   580538|    22906|12 MESSAGE CARDS ...|      24|2011-12-05 08:38:00|     1.65|   14075.0|United Kingdom|     Monday|\n",
      "|   580538|    21914|BLUE HARMONICA IN...|      24|2011-12-05 08:38:00|     1.25|   14075.0|United Kingdom|     Monday|\n",
      "|   580538|    22467|   GUMBALL COAT RACK|       6|2011-12-05 08:38:00|     2.55|   14075.0|United Kingdom|     Monday|\n",
      "+---------+---------+--------------------+--------+-------------------+---------+----------+--------------+-----------+\n",
      "only showing top 5 rows\n",
      "\n",
      "None\n",
      "+-----------+\n",
      "|day_of_week|\n",
      "+-----------+\n",
      "|  Wednesday|\n",
      "|   Thursday|\n",
      "|    Tuesday|\n",
      "|     Sunday|\n",
      "|     Monday|\n",
      "|     Friday|\n",
      "+-----------+\n",
      "\n",
      "None\n"
     ]
    }
   ],
   "source": [
    "print(preppedDataFrame.show(5))\n",
    "print(preppedDataFrame.select('day_of_week').distinct().show(10))"
   ]
  },
  {
   "attachments": {
    "3d450f3b-8ec1-4d43-88fe-17a4b96c3c63.png": {
     "image/png": "[encoded data removed]"
    },
    "75b68622-3c5f-4364-af53-7864ef555a78.png": {
     "image/png": "[encoded data removed]"
    }
   },
   "cell_type": "markdown",
   "id": "41fdd845-1314-422c-a11b-dc5bae879f6c",
   "metadata": {},
   "source": [
    "### Coalesce function\n",
    "\n",
    "\n",
    "![image.png](attachment:75b68622-3c5f-4364-af53-7864ef555a78.png)\n",
    "![image.png](attachment:3d450f3b-8ec1-4d43-88fe-17a4b96c3c63.png)"
   ]
  },
  {
   "cell_type": "markdown",
   "id": "776c05fe-07a8-4f4d-847b-52e6a77cd3bb",
   "metadata": {},
   "source": [
    "### Train Test Split (by Data only)"
   ]
  },
  {
   "cell_type": "code",
   "execution_count": 18,
   "id": "3e8ee08e-c8a8-42fe-a76e-360673bcf3ef",
   "metadata": {},
   "outputs": [],
   "source": [
    "tranDataFrame = preppedDataFrame.where(\"InvoiceDate < '2011-07-01'\")"
   ]
  },
  {
   "cell_type": "code",
   "execution_count": 19,
   "id": "4eed1575-f8ce-4d5a-9cce-e57b8ce0fd0c",
   "metadata": {},
   "outputs": [],
   "source": [
    "testDataFrame =  preppedDataFrame.where(\"InvoiceDate >= '2011-07-01'\")"
   ]
  },
  {
   "cell_type": "code",
   "execution_count": 20,
   "id": "abf73c19-355e-4147-b72d-ed8ff613c143",
   "metadata": {},
   "outputs": [
    {
     "name": "stdout",
     "output_type": "stream",
     "text": [
      "Train df num: 245903, Test df num: 296006\n"
     ]
    }
   ],
   "source": [
    "print(f'Train df num: {tranDataFrame.count()}, Test df num: {testDataFrame.count()}')"
   ]
  },
  {
   "cell_type": "markdown",
   "id": "9959f41d-bb6b-466f-9850-8b648a985ca7",
   "metadata": {},
   "source": [
    "#### As factor using string indexer"
   ]
  },
  {
   "cell_type": "code",
   "execution_count": 21,
   "id": "ef678208-d777-4292-83c0-ed6c5475918a",
   "metadata": {},
   "outputs": [],
   "source": [
    "from pyspark.ml.feature import StringIndexer"
   ]
  },
  {
   "cell_type": "code",
   "execution_count": 22,
   "id": "cc9134e0-1314-4984-9ac5-d3cacc275843",
   "metadata": {},
   "outputs": [],
   "source": [
    "indexer = StringIndexer()\\\n",
    ".setInputCol(\"day_of_week\")\\\n",
    ".setOutputCol(\"day_of_week_index\")"
   ]
  },
  {
   "cell_type": "markdown",
   "id": "5ea8e010-3b29-4536-813c-be21449a4374",
   "metadata": {},
   "source": [
    "#### One hot encoding after string to numeric using indexer"
   ]
  },
  {
   "cell_type": "code",
   "execution_count": 23,
   "id": "9b02d039-2122-44a1-8a64-b9ff9649ba5a",
   "metadata": {},
   "outputs": [],
   "source": [
    "from pyspark.ml.feature import OneHotEncoder"
   ]
  },
  {
   "cell_type": "code",
   "execution_count": 24,
   "id": "5ecfd34c-7733-4c42-8db4-004f4e561ae0",
   "metadata": {},
   "outputs": [],
   "source": [
    "encoder = OneHotEncoder()\\\n",
    ".setInputCol(\"day_of_week_index\")\\\n",
    ".setOutputCol(\"day_of_week_encoded\")"
   ]
  },
  {
   "cell_type": "markdown",
   "id": "7bf5f427-5888-4f5d-b2d7-c8a8f4cfc6a3",
   "metadata": {},
   "source": [
    "#### Results in a set of columns we will assemble into a vector. Make all features into one feature\n",
    "### Vector is the input type for Spark ml algorithm, which is a set of numeric value."
   ]
  },
  {
   "cell_type": "code",
   "execution_count": 25,
   "id": "13447879-dcd9-4028-9697-89559f605133",
   "metadata": {},
   "outputs": [],
   "source": [
    "from pyspark.ml.feature import VectorAssembler"
   ]
  },
  {
   "cell_type": "code",
   "execution_count": 26,
   "id": "53f20f02-7cfb-4389-9df0-530de1d4a88e",
   "metadata": {},
   "outputs": [],
   "source": [
    "vectorAssembler = VectorAssembler()\\\n",
    ".setInputCols([\"UnitPrice\", \"Quantity\", \"day_of_week_encoded\"])\\\n",
    ".setOutputCol(\"features\") "
   ]
  },
  {
   "cell_type": "markdown",
   "id": "3c8ba6cd-0f33-4977-8a04-0e9b720385a8",
   "metadata": {},
   "source": [
    "### Build Pipeline\n",
    "#### Stages\n",
    "- fit transformers to the dataset (combine the tools above)\n",
    "- "
   ]
  },
  {
   "cell_type": "code",
   "execution_count": 27,
   "id": "56a75df7-0ae1-4515-b9ad-7568ee94678e",
   "metadata": {},
   "outputs": [],
   "source": [
    "from pyspark.ml import Pipeline"
   ]
  },
  {
   "cell_type": "code",
   "execution_count": 28,
   "id": "5ff3592c-00b7-4f12-8623-674cf695abd2",
   "metadata": {},
   "outputs": [],
   "source": [
    "transformationPiepline = Pipeline()\\\n",
    ".setStages([indexer, encoder, vectorAssembler])"
   ]
  },
  {
   "cell_type": "markdown",
   "id": "e97a7d74-1635-4067-a403-afd461f9827d",
   "metadata": {},
   "source": [
    "#### Spark needs to know how many unique values so it can index"
   ]
  },
  {
   "cell_type": "code",
   "execution_count": 29,
   "id": "1651b9d5-6f94-4b44-85fc-49149ccadcb4",
   "metadata": {},
   "outputs": [],
   "source": [
    "fittedPipeline = transformationPiepline.fit(tranDataFrame)"
   ]
  },
  {
   "cell_type": "markdown",
   "id": "33a917cf-5fe9-47c8-80ea-09dc4d8b6e27",
   "metadata": {},
   "source": [
    "#### Take the fitted pipeline and use it to transform all data"
   ]
  },
  {
   "cell_type": "code",
   "execution_count": 30,
   "id": "49574808-8d79-4e9c-add1-ef2f86b1d44a",
   "metadata": {},
   "outputs": [],
   "source": [
    "transformedTraning = fittedPipeline.transform(tranDataFrame)"
   ]
  },
  {
   "cell_type": "code",
   "execution_count": 31,
   "id": "58d5e0ea-3ed6-4252-85bd-00a765694547",
   "metadata": {},
   "outputs": [
    {
     "data": {
      "text/html": [
       "<div>\n",
       "<style scoped>\n",
       "    .dataframe tbody tr th:only-of-type {\n",
       "        vertical-align: middle;\n",
       "    }\n",
       "\n",
       "    .dataframe tbody tr th {\n",
       "        vertical-align: top;\n",
       "    }\n",
       "\n",
       "    .dataframe thead th {\n",
       "        text-align: right;\n",
       "    }\n",
       "</style>\n",
       "<table border=\"1\" class=\"dataframe\">\n",
       "  <thead>\n",
       "    <tr style=\"text-align: right;\">\n",
       "      <th></th>\n",
       "      <th>InvoiceNo</th>\n",
       "      <th>StockCode</th>\n",
       "      <th>Description</th>\n",
       "      <th>Quantity</th>\n",
       "      <th>InvoiceDate</th>\n",
       "      <th>UnitPrice</th>\n",
       "      <th>CustomerID</th>\n",
       "      <th>Country</th>\n",
       "      <th>day_of_week</th>\n",
       "      <th>day_of_week_index</th>\n",
       "      <th>day_of_week_encoded</th>\n",
       "      <th>features</th>\n",
       "    </tr>\n",
       "  </thead>\n",
       "  <tbody>\n",
       "    <tr>\n",
       "      <th>0</th>\n",
       "      <td>537226</td>\n",
       "      <td>22811</td>\n",
       "      <td>SET OF 6 T-LIGHTS CACTI</td>\n",
       "      <td>6</td>\n",
       "      <td>2010-12-06 08:34:00</td>\n",
       "      <td>2.95</td>\n",
       "      <td>15987.0</td>\n",
       "      <td>United Kingdom</td>\n",
       "      <td>Monday</td>\n",
       "      <td>2.0</td>\n",
       "      <td>(0.0, 0.0, 1.0, 0.0, 0.0)</td>\n",
       "      <td>(2.95, 6.0, 0.0, 0.0, 1.0, 0.0, 0.0)</td>\n",
       "    </tr>\n",
       "    <tr>\n",
       "      <th>1</th>\n",
       "      <td>537226</td>\n",
       "      <td>21713</td>\n",
       "      <td>CITRONELLA CANDLE FLOWERPOT</td>\n",
       "      <td>8</td>\n",
       "      <td>2010-12-06 08:34:00</td>\n",
       "      <td>2.10</td>\n",
       "      <td>15987.0</td>\n",
       "      <td>United Kingdom</td>\n",
       "      <td>Monday</td>\n",
       "      <td>2.0</td>\n",
       "      <td>(0.0, 0.0, 1.0, 0.0, 0.0)</td>\n",
       "      <td>(2.1, 8.0, 0.0, 0.0, 1.0, 0.0, 0.0)</td>\n",
       "    </tr>\n",
       "    <tr>\n",
       "      <th>2</th>\n",
       "      <td>537226</td>\n",
       "      <td>22927</td>\n",
       "      <td>GREEN GIANT GARDEN THERMOMETER</td>\n",
       "      <td>2</td>\n",
       "      <td>2010-12-06 08:34:00</td>\n",
       "      <td>5.95</td>\n",
       "      <td>15987.0</td>\n",
       "      <td>United Kingdom</td>\n",
       "      <td>Monday</td>\n",
       "      <td>2.0</td>\n",
       "      <td>(0.0, 0.0, 1.0, 0.0, 0.0)</td>\n",
       "      <td>(5.95, 2.0, 0.0, 0.0, 1.0, 0.0, 0.0)</td>\n",
       "    </tr>\n",
       "    <tr>\n",
       "      <th>3</th>\n",
       "      <td>537226</td>\n",
       "      <td>20802</td>\n",
       "      <td>SMALL GLASS SUNDAE DISH CLEAR</td>\n",
       "      <td>6</td>\n",
       "      <td>2010-12-06 08:34:00</td>\n",
       "      <td>1.65</td>\n",
       "      <td>15987.0</td>\n",
       "      <td>United Kingdom</td>\n",
       "      <td>Monday</td>\n",
       "      <td>2.0</td>\n",
       "      <td>(0.0, 0.0, 1.0, 0.0, 0.0)</td>\n",
       "      <td>(1.65, 6.0, 0.0, 0.0, 1.0, 0.0, 0.0)</td>\n",
       "    </tr>\n",
       "    <tr>\n",
       "      <th>4</th>\n",
       "      <td>537226</td>\n",
       "      <td>22052</td>\n",
       "      <td>VINTAGE CARAVAN GIFT WRAP</td>\n",
       "      <td>25</td>\n",
       "      <td>2010-12-06 08:34:00</td>\n",
       "      <td>0.42</td>\n",
       "      <td>15987.0</td>\n",
       "      <td>United Kingdom</td>\n",
       "      <td>Monday</td>\n",
       "      <td>2.0</td>\n",
       "      <td>(0.0, 0.0, 1.0, 0.0, 0.0)</td>\n",
       "      <td>(0.42, 25.0, 0.0, 0.0, 1.0, 0.0, 0.0)</td>\n",
       "    </tr>\n",
       "    <tr>\n",
       "      <th>5</th>\n",
       "      <td>537226</td>\n",
       "      <td>22705</td>\n",
       "      <td>WRAP GREEN PEARS</td>\n",
       "      <td>25</td>\n",
       "      <td>2010-12-06 08:34:00</td>\n",
       "      <td>0.42</td>\n",
       "      <td>15987.0</td>\n",
       "      <td>United Kingdom</td>\n",
       "      <td>Monday</td>\n",
       "      <td>2.0</td>\n",
       "      <td>(0.0, 0.0, 1.0, 0.0, 0.0)</td>\n",
       "      <td>(0.42, 25.0, 0.0, 0.0, 1.0, 0.0, 0.0)</td>\n",
       "    </tr>\n",
       "    <tr>\n",
       "      <th>6</th>\n",
       "      <td>537226</td>\n",
       "      <td>20781</td>\n",
       "      <td>GOLD EAR MUFF HEADPHONES</td>\n",
       "      <td>2</td>\n",
       "      <td>2010-12-06 08:34:00</td>\n",
       "      <td>5.49</td>\n",
       "      <td>15987.0</td>\n",
       "      <td>United Kingdom</td>\n",
       "      <td>Monday</td>\n",
       "      <td>2.0</td>\n",
       "      <td>(0.0, 0.0, 1.0, 0.0, 0.0)</td>\n",
       "      <td>(5.49, 2.0, 0.0, 0.0, 1.0, 0.0, 0.0)</td>\n",
       "    </tr>\n",
       "    <tr>\n",
       "      <th>7</th>\n",
       "      <td>537226</td>\n",
       "      <td>22310</td>\n",
       "      <td>IVORY KNITTED MUG COSY</td>\n",
       "      <td>6</td>\n",
       "      <td>2010-12-06 08:34:00</td>\n",
       "      <td>1.65</td>\n",
       "      <td>15987.0</td>\n",
       "      <td>United Kingdom</td>\n",
       "      <td>Monday</td>\n",
       "      <td>2.0</td>\n",
       "      <td>(0.0, 0.0, 1.0, 0.0, 0.0)</td>\n",
       "      <td>(1.65, 6.0, 0.0, 0.0, 1.0, 0.0, 0.0)</td>\n",
       "    </tr>\n",
       "    <tr>\n",
       "      <th>8</th>\n",
       "      <td>537226</td>\n",
       "      <td>22389</td>\n",
       "      <td>PAPERWEIGHT SAVE THE PLANET</td>\n",
       "      <td>6</td>\n",
       "      <td>2010-12-06 08:34:00</td>\n",
       "      <td>2.55</td>\n",
       "      <td>15987.0</td>\n",
       "      <td>United Kingdom</td>\n",
       "      <td>Monday</td>\n",
       "      <td>2.0</td>\n",
       "      <td>(0.0, 0.0, 1.0, 0.0, 0.0)</td>\n",
       "      <td>(2.55, 6.0, 0.0, 0.0, 1.0, 0.0, 0.0)</td>\n",
       "    </tr>\n",
       "    <tr>\n",
       "      <th>9</th>\n",
       "      <td>537227</td>\n",
       "      <td>22941</td>\n",
       "      <td>CHRISTMAS LIGHTS 10 REINDEER</td>\n",
       "      <td>2</td>\n",
       "      <td>2010-12-06 08:42:00</td>\n",
       "      <td>8.50</td>\n",
       "      <td>17677.0</td>\n",
       "      <td>United Kingdom</td>\n",
       "      <td>Monday</td>\n",
       "      <td>2.0</td>\n",
       "      <td>(0.0, 0.0, 1.0, 0.0, 0.0)</td>\n",
       "      <td>(8.5, 2.0, 0.0, 0.0, 1.0, 0.0, 0.0)</td>\n",
       "    </tr>\n",
       "    <tr>\n",
       "      <th>10</th>\n",
       "      <td>537227</td>\n",
       "      <td>22696</td>\n",
       "      <td>WICKER WREATH LARGE</td>\n",
       "      <td>6</td>\n",
       "      <td>2010-12-06 08:42:00</td>\n",
       "      <td>1.95</td>\n",
       "      <td>17677.0</td>\n",
       "      <td>United Kingdom</td>\n",
       "      <td>Monday</td>\n",
       "      <td>2.0</td>\n",
       "      <td>(0.0, 0.0, 1.0, 0.0, 0.0)</td>\n",
       "      <td>(1.95, 6.0, 0.0, 0.0, 1.0, 0.0, 0.0)</td>\n",
       "    </tr>\n",
       "    <tr>\n",
       "      <th>11</th>\n",
       "      <td>537227</td>\n",
       "      <td>22193</td>\n",
       "      <td>RED DINER WALL CLOCK</td>\n",
       "      <td>2</td>\n",
       "      <td>2010-12-06 08:42:00</td>\n",
       "      <td>8.50</td>\n",
       "      <td>17677.0</td>\n",
       "      <td>United Kingdom</td>\n",
       "      <td>Monday</td>\n",
       "      <td>2.0</td>\n",
       "      <td>(0.0, 0.0, 1.0, 0.0, 0.0)</td>\n",
       "      <td>(8.5, 2.0, 0.0, 0.0, 1.0, 0.0, 0.0)</td>\n",
       "    </tr>\n",
       "    <tr>\n",
       "      <th>12</th>\n",
       "      <td>537227</td>\n",
       "      <td>21212</td>\n",
       "      <td>PACK OF 72 RETROSPOT CAKE CASES</td>\n",
       "      <td>120</td>\n",
       "      <td>2010-12-06 08:42:00</td>\n",
       "      <td>0.42</td>\n",
       "      <td>17677.0</td>\n",
       "      <td>United Kingdom</td>\n",
       "      <td>Monday</td>\n",
       "      <td>2.0</td>\n",
       "      <td>(0.0, 0.0, 1.0, 0.0, 0.0)</td>\n",
       "      <td>(0.42, 120.0, 0.0, 0.0, 1.0, 0.0, 0.0)</td>\n",
       "    </tr>\n",
       "    <tr>\n",
       "      <th>13</th>\n",
       "      <td>537227</td>\n",
       "      <td>21977</td>\n",
       "      <td>PACK OF 60 PINK PAISLEY CAKE CASES</td>\n",
       "      <td>48</td>\n",
       "      <td>2010-12-06 08:42:00</td>\n",
       "      <td>0.55</td>\n",
       "      <td>17677.0</td>\n",
       "      <td>United Kingdom</td>\n",
       "      <td>Monday</td>\n",
       "      <td>2.0</td>\n",
       "      <td>(0.0, 0.0, 1.0, 0.0, 0.0)</td>\n",
       "      <td>(0.55, 48.0, 0.0, 0.0, 1.0, 0.0, 0.0)</td>\n",
       "    </tr>\n",
       "    <tr>\n",
       "      <th>14</th>\n",
       "      <td>537227</td>\n",
       "      <td>84991</td>\n",
       "      <td>60 TEATIME FAIRY CAKE CASES</td>\n",
       "      <td>48</td>\n",
       "      <td>2010-12-06 08:42:00</td>\n",
       "      <td>0.55</td>\n",
       "      <td>17677.0</td>\n",
       "      <td>United Kingdom</td>\n",
       "      <td>Monday</td>\n",
       "      <td>2.0</td>\n",
       "      <td>(0.0, 0.0, 1.0, 0.0, 0.0)</td>\n",
       "      <td>(0.55, 48.0, 0.0, 0.0, 1.0, 0.0, 0.0)</td>\n",
       "    </tr>\n",
       "    <tr>\n",
       "      <th>15</th>\n",
       "      <td>537227</td>\n",
       "      <td>21213</td>\n",
       "      <td>PACK OF 72 SKULL CAKE CASES</td>\n",
       "      <td>48</td>\n",
       "      <td>2010-12-06 08:42:00</td>\n",
       "      <td>0.55</td>\n",
       "      <td>17677.0</td>\n",
       "      <td>United Kingdom</td>\n",
       "      <td>Monday</td>\n",
       "      <td>2.0</td>\n",
       "      <td>(0.0, 0.0, 1.0, 0.0, 0.0)</td>\n",
       "      <td>(0.55, 48.0, 0.0, 0.0, 1.0, 0.0, 0.0)</td>\n",
       "    </tr>\n",
       "    <tr>\n",
       "      <th>16</th>\n",
       "      <td>537227</td>\n",
       "      <td>21080</td>\n",
       "      <td>SET/20 RED RETROSPOT PAPER NAPKINS</td>\n",
       "      <td>12</td>\n",
       "      <td>2010-12-06 08:42:00</td>\n",
       "      <td>0.85</td>\n",
       "      <td>17677.0</td>\n",
       "      <td>United Kingdom</td>\n",
       "      <td>Monday</td>\n",
       "      <td>2.0</td>\n",
       "      <td>(0.0, 0.0, 1.0, 0.0, 0.0)</td>\n",
       "      <td>(0.85, 12.0, 0.0, 0.0, 1.0, 0.0, 0.0)</td>\n",
       "    </tr>\n",
       "    <tr>\n",
       "      <th>17</th>\n",
       "      <td>537227</td>\n",
       "      <td>22632</td>\n",
       "      <td>HAND WARMER RED RETROSPOT</td>\n",
       "      <td>48</td>\n",
       "      <td>2010-12-06 08:42:00</td>\n",
       "      <td>2.10</td>\n",
       "      <td>17677.0</td>\n",
       "      <td>United Kingdom</td>\n",
       "      <td>Monday</td>\n",
       "      <td>2.0</td>\n",
       "      <td>(0.0, 0.0, 1.0, 0.0, 0.0)</td>\n",
       "      <td>(2.1, 48.0, 0.0, 0.0, 1.0, 0.0, 0.0)</td>\n",
       "    </tr>\n",
       "    <tr>\n",
       "      <th>18</th>\n",
       "      <td>537227</td>\n",
       "      <td>22315</td>\n",
       "      <td>200 RED + WHITE BENDY STRAWS</td>\n",
       "      <td>12</td>\n",
       "      <td>2010-12-06 08:42:00</td>\n",
       "      <td>1.25</td>\n",
       "      <td>17677.0</td>\n",
       "      <td>United Kingdom</td>\n",
       "      <td>Monday</td>\n",
       "      <td>2.0</td>\n",
       "      <td>(0.0, 0.0, 1.0, 0.0, 0.0)</td>\n",
       "      <td>(1.25, 12.0, 0.0, 0.0, 1.0, 0.0, 0.0)</td>\n",
       "    </tr>\n",
       "    <tr>\n",
       "      <th>19</th>\n",
       "      <td>537227</td>\n",
       "      <td>21232</td>\n",
       "      <td>STRAWBERRY CERAMIC TRINKET BOX</td>\n",
       "      <td>12</td>\n",
       "      <td>2010-12-06 08:42:00</td>\n",
       "      <td>1.25</td>\n",
       "      <td>17677.0</td>\n",
       "      <td>United Kingdom</td>\n",
       "      <td>Monday</td>\n",
       "      <td>2.0</td>\n",
       "      <td>(0.0, 0.0, 1.0, 0.0, 0.0)</td>\n",
       "      <td>(1.25, 12.0, 0.0, 0.0, 1.0, 0.0, 0.0)</td>\n",
       "    </tr>\n",
       "  </tbody>\n",
       "</table>\n",
       "</div>"
      ],
      "text/plain": [
       "   InvoiceNo StockCode                          Description  Quantity          InvoiceDate  UnitPrice  CustomerID         Country day_of_week  day_of_week_index        day_of_week_encoded                                features\n",
       "0     537226     22811             SET OF 6 T-LIGHTS CACTI          6  2010-12-06 08:34:00       2.95     15987.0  United Kingdom      Monday                2.0  (0.0, 0.0, 1.0, 0.0, 0.0)    (2.95, 6.0, 0.0, 0.0, 1.0, 0.0, 0.0)\n",
       "1     537226     21713          CITRONELLA CANDLE FLOWERPOT         8  2010-12-06 08:34:00       2.10     15987.0  United Kingdom      Monday                2.0  (0.0, 0.0, 1.0, 0.0, 0.0)     (2.1, 8.0, 0.0, 0.0, 1.0, 0.0, 0.0)\n",
       "2     537226     22927       GREEN GIANT GARDEN THERMOMETER         2  2010-12-06 08:34:00       5.95     15987.0  United Kingdom      Monday                2.0  (0.0, 0.0, 1.0, 0.0, 0.0)    (5.95, 2.0, 0.0, 0.0, 1.0, 0.0, 0.0)\n",
       "3     537226     20802        SMALL GLASS SUNDAE DISH CLEAR         6  2010-12-06 08:34:00       1.65     15987.0  United Kingdom      Monday                2.0  (0.0, 0.0, 1.0, 0.0, 0.0)    (1.65, 6.0, 0.0, 0.0, 1.0, 0.0, 0.0)\n",
       "4     537226     22052            VINTAGE CARAVAN GIFT WRAP        25  2010-12-06 08:34:00       0.42     15987.0  United Kingdom      Monday                2.0  (0.0, 0.0, 1.0, 0.0, 0.0)   (0.42, 25.0, 0.0, 0.0, 1.0, 0.0, 0.0)\n",
       "5     537226     22705                    WRAP GREEN PEARS         25  2010-12-06 08:34:00       0.42     15987.0  United Kingdom      Monday                2.0  (0.0, 0.0, 1.0, 0.0, 0.0)   (0.42, 25.0, 0.0, 0.0, 1.0, 0.0, 0.0)\n",
       "6     537226     20781             GOLD EAR MUFF HEADPHONES         2  2010-12-06 08:34:00       5.49     15987.0  United Kingdom      Monday                2.0  (0.0, 0.0, 1.0, 0.0, 0.0)    (5.49, 2.0, 0.0, 0.0, 1.0, 0.0, 0.0)\n",
       "7     537226     22310              IVORY KNITTED MUG COSY          6  2010-12-06 08:34:00       1.65     15987.0  United Kingdom      Monday                2.0  (0.0, 0.0, 1.0, 0.0, 0.0)    (1.65, 6.0, 0.0, 0.0, 1.0, 0.0, 0.0)\n",
       "8     537226     22389          PAPERWEIGHT SAVE THE PLANET         6  2010-12-06 08:34:00       2.55     15987.0  United Kingdom      Monday                2.0  (0.0, 0.0, 1.0, 0.0, 0.0)    (2.55, 6.0, 0.0, 0.0, 1.0, 0.0, 0.0)\n",
       "9     537227     22941         CHRISTMAS LIGHTS 10 REINDEER         2  2010-12-06 08:42:00       8.50     17677.0  United Kingdom      Monday                2.0  (0.0, 0.0, 1.0, 0.0, 0.0)     (8.5, 2.0, 0.0, 0.0, 1.0, 0.0, 0.0)\n",
       "10    537227     22696                  WICKER WREATH LARGE         6  2010-12-06 08:42:00       1.95     17677.0  United Kingdom      Monday                2.0  (0.0, 0.0, 1.0, 0.0, 0.0)    (1.95, 6.0, 0.0, 0.0, 1.0, 0.0, 0.0)\n",
       "11    537227     22193                 RED DINER WALL CLOCK         2  2010-12-06 08:42:00       8.50     17677.0  United Kingdom      Monday                2.0  (0.0, 0.0, 1.0, 0.0, 0.0)     (8.5, 2.0, 0.0, 0.0, 1.0, 0.0, 0.0)\n",
       "12    537227     21212      PACK OF 72 RETROSPOT CAKE CASES       120  2010-12-06 08:42:00       0.42     17677.0  United Kingdom      Monday                2.0  (0.0, 0.0, 1.0, 0.0, 0.0)  (0.42, 120.0, 0.0, 0.0, 1.0, 0.0, 0.0)\n",
       "13    537227     21977   PACK OF 60 PINK PAISLEY CAKE CASES        48  2010-12-06 08:42:00       0.55     17677.0  United Kingdom      Monday                2.0  (0.0, 0.0, 1.0, 0.0, 0.0)   (0.55, 48.0, 0.0, 0.0, 1.0, 0.0, 0.0)\n",
       "14    537227     84991          60 TEATIME FAIRY CAKE CASES        48  2010-12-06 08:42:00       0.55     17677.0  United Kingdom      Monday                2.0  (0.0, 0.0, 1.0, 0.0, 0.0)   (0.55, 48.0, 0.0, 0.0, 1.0, 0.0, 0.0)\n",
       "15    537227     21213          PACK OF 72 SKULL CAKE CASES        48  2010-12-06 08:42:00       0.55     17677.0  United Kingdom      Monday                2.0  (0.0, 0.0, 1.0, 0.0, 0.0)   (0.55, 48.0, 0.0, 0.0, 1.0, 0.0, 0.0)\n",
       "16    537227     21080  SET/20 RED RETROSPOT PAPER NAPKINS         12  2010-12-06 08:42:00       0.85     17677.0  United Kingdom      Monday                2.0  (0.0, 0.0, 1.0, 0.0, 0.0)   (0.85, 12.0, 0.0, 0.0, 1.0, 0.0, 0.0)\n",
       "17    537227     22632            HAND WARMER RED RETROSPOT        48  2010-12-06 08:42:00       2.10     17677.0  United Kingdom      Monday                2.0  (0.0, 0.0, 1.0, 0.0, 0.0)    (2.1, 48.0, 0.0, 0.0, 1.0, 0.0, 0.0)\n",
       "18    537227     22315         200 RED + WHITE BENDY STRAWS        12  2010-12-06 08:42:00       1.25     17677.0  United Kingdom      Monday                2.0  (0.0, 0.0, 1.0, 0.0, 0.0)   (1.25, 12.0, 0.0, 0.0, 1.0, 0.0, 0.0)\n",
       "19    537227     21232       STRAWBERRY CERAMIC TRINKET BOX        12  2010-12-06 08:42:00       1.25     17677.0  United Kingdom      Monday                2.0  (0.0, 0.0, 1.0, 0.0, 0.0)   (1.25, 12.0, 0.0, 0.0, 1.0, 0.0, 0.0)"
      ]
     },
     "execution_count": 31,
     "metadata": {},
     "output_type": "execute_result"
    }
   ],
   "source": [
    "#transformed dataframe\n",
    "transformedTraning.to_pandas_on_spark().head(20)"
   ]
  },
  {
   "cell_type": "markdown",
   "id": "cad596ce-360e-483f-a9ba-2d8d7db0ba48",
   "metadata": {},
   "source": [
    "#### Cache the dataframe to access it over and over again later"
   ]
  },
  {
   "cell_type": "code",
   "execution_count": 32,
   "id": "846f2931-988c-45a5-afc9-ecc262a0de66",
   "metadata": {},
   "outputs": [
    {
     "data": {
      "text/plain": [
       "DataFrame[InvoiceNo: string, StockCode: string, Description: string, Quantity: int, InvoiceDate: string, UnitPrice: double, CustomerID: double, Country: string, day_of_week: string, day_of_week_index: double, day_of_week_encoded: vector, features: vector]"
      ]
     },
     "execution_count": 32,
     "metadata": {},
     "output_type": "execute_result"
    }
   ],
   "source": [
    "transformedTraning.cache()"
   ]
  },
  {
   "cell_type": "markdown",
   "id": "4abdb883-60ca-4bc4-92f1-40b0def2519c",
   "metadata": {},
   "source": [
    "#### Train the model\n",
    "\n",
    "### Naming pattern\n",
    "- \"Algorithm\" is untrained version\n",
    "- \"Algorithm\" Model is trained version\n"
   ]
  },
  {
   "cell_type": "code",
   "execution_count": 33,
   "id": "52636630-e988-4af9-bbcd-f8e59e51f6ac",
   "metadata": {},
   "outputs": [],
   "source": [
    "from pyspark.ml.clustering import KMeans"
   ]
  },
  {
   "cell_type": "code",
   "execution_count": 34,
   "id": "2e319a60-137c-461c-850c-7c1f8c1a508e",
   "metadata": {},
   "outputs": [],
   "source": [
    "kmeans = KMeans()\\\n",
    ".setK(20)\\\n",
    ".setSeed(1)"
   ]
  },
  {
   "cell_type": "code",
   "execution_count": 35,
   "id": "8c294bae-e34d-4b80-9fe2-7243048f592d",
   "metadata": {},
   "outputs": [
    {
     "data": {
      "text/plain": [
       "['InvoiceNo',\n",
       " 'StockCode',\n",
       " 'Description',\n",
       " 'Quantity',\n",
       " 'InvoiceDate',\n",
       " 'UnitPrice',\n",
       " 'CustomerID',\n",
       " 'Country',\n",
       " 'day_of_week',\n",
       " 'day_of_week_index',\n",
       " 'day_of_week_encoded',\n",
       " 'features']"
      ]
     },
     "execution_count": 35,
     "metadata": {},
     "output_type": "execute_result"
    }
   ],
   "source": [
    "transformedTraning.columns"
   ]
  },
  {
   "cell_type": "code",
   "execution_count": 36,
   "id": "e005d8af-1cf6-4bb2-afa5-87dddd3bb8cc",
   "metadata": {},
   "outputs": [],
   "source": [
    "kmModel = kmeans.fit(transformedTraning)"
   ]
  },
  {
   "cell_type": "code",
   "execution_count": 41,
   "id": "bfbde67f-b49b-46a5-8718-e6e55c0f845c",
   "metadata": {},
   "outputs": [
    {
     "ename": "AttributeError",
     "evalue": "'KMeansModel' object has no attribute '_jdf'",
     "output_type": "error",
     "traceback": [
      "\u001b[1;31m---------------------------------------------------------------------------\u001b[0m",
      "\u001b[1;31mAttributeError\u001b[0m                            Traceback (most recent call last)",
      "\u001b[1;32m<ipython-input-41-86689f4d6c2d>\u001b[0m in \u001b[0;36m<module>\u001b[1;34m\u001b[0m\n\u001b[0;32m      2\u001b[0m \u001b[0mevaluator\u001b[0m \u001b[1;33m=\u001b[0m \u001b[0mClusteringEvaluator\u001b[0m\u001b[1;33m(\u001b[0m\u001b[1;33m)\u001b[0m\u001b[1;33m\u001b[0m\u001b[1;33m\u001b[0m\u001b[0m\n\u001b[0;32m      3\u001b[0m \u001b[1;33m\u001b[0m\u001b[0m\n\u001b[1;32m----> 4\u001b[1;33m \u001b[0mevaluator\u001b[0m\u001b[1;33m.\u001b[0m\u001b[0mevaluate\u001b[0m\u001b[1;33m(\u001b[0m\u001b[0mkmModel\u001b[0m\u001b[1;33m)\u001b[0m\u001b[1;33m\u001b[0m\u001b[1;33m\u001b[0m\u001b[0m\n\u001b[0m",
      "\u001b[1;32mC:\\Environment\\spark\\lib\\site-packages\\pyspark\\ml\\evaluation.py\u001b[0m in \u001b[0;36mevaluate\u001b[1;34m(self, dataset, params)\u001b[0m\n\u001b[0;32m     82\u001b[0m                 \u001b[1;32mreturn\u001b[0m \u001b[0mself\u001b[0m\u001b[1;33m.\u001b[0m\u001b[0mcopy\u001b[0m\u001b[1;33m(\u001b[0m\u001b[0mparams\u001b[0m\u001b[1;33m)\u001b[0m\u001b[1;33m.\u001b[0m\u001b[0m_evaluate\u001b[0m\u001b[1;33m(\u001b[0m\u001b[0mdataset\u001b[0m\u001b[1;33m)\u001b[0m\u001b[1;33m\u001b[0m\u001b[1;33m\u001b[0m\u001b[0m\n\u001b[0;32m     83\u001b[0m             \u001b[1;32melse\u001b[0m\u001b[1;33m:\u001b[0m\u001b[1;33m\u001b[0m\u001b[1;33m\u001b[0m\u001b[0m\n\u001b[1;32m---> 84\u001b[1;33m                 \u001b[1;32mreturn\u001b[0m \u001b[0mself\u001b[0m\u001b[1;33m.\u001b[0m\u001b[0m_evaluate\u001b[0m\u001b[1;33m(\u001b[0m\u001b[0mdataset\u001b[0m\u001b[1;33m)\u001b[0m\u001b[1;33m\u001b[0m\u001b[1;33m\u001b[0m\u001b[0m\n\u001b[0m\u001b[0;32m     85\u001b[0m         \u001b[1;32melse\u001b[0m\u001b[1;33m:\u001b[0m\u001b[1;33m\u001b[0m\u001b[1;33m\u001b[0m\u001b[0m\n\u001b[0;32m     86\u001b[0m             \u001b[1;32mraise\u001b[0m \u001b[0mTypeError\u001b[0m\u001b[1;33m(\u001b[0m\u001b[1;34m\"Params must be a param map but got %s.\"\u001b[0m \u001b[1;33m%\u001b[0m \u001b[0mtype\u001b[0m\u001b[1;33m(\u001b[0m\u001b[0mparams\u001b[0m\u001b[1;33m)\u001b[0m\u001b[1;33m)\u001b[0m\u001b[1;33m\u001b[0m\u001b[1;33m\u001b[0m\u001b[0m\n",
      "\u001b[1;32mC:\\Environment\\spark\\lib\\site-packages\\pyspark\\ml\\evaluation.py\u001b[0m in \u001b[0;36m_evaluate\u001b[1;34m(self, dataset)\u001b[0m\n\u001b[0;32m    118\u001b[0m         \"\"\"\n\u001b[0;32m    119\u001b[0m         \u001b[0mself\u001b[0m\u001b[1;33m.\u001b[0m\u001b[0m_transfer_params_to_java\u001b[0m\u001b[1;33m(\u001b[0m\u001b[1;33m)\u001b[0m\u001b[1;33m\u001b[0m\u001b[1;33m\u001b[0m\u001b[0m\n\u001b[1;32m--> 120\u001b[1;33m         \u001b[1;32mreturn\u001b[0m \u001b[0mself\u001b[0m\u001b[1;33m.\u001b[0m\u001b[0m_java_obj\u001b[0m\u001b[1;33m.\u001b[0m\u001b[0mevaluate\u001b[0m\u001b[1;33m(\u001b[0m\u001b[0mdataset\u001b[0m\u001b[1;33m.\u001b[0m\u001b[0m_jdf\u001b[0m\u001b[1;33m)\u001b[0m\u001b[1;33m\u001b[0m\u001b[1;33m\u001b[0m\u001b[0m\n\u001b[0m\u001b[0;32m    121\u001b[0m \u001b[1;33m\u001b[0m\u001b[0m\n\u001b[0;32m    122\u001b[0m     \u001b[1;32mdef\u001b[0m \u001b[0misLargerBetter\u001b[0m\u001b[1;33m(\u001b[0m\u001b[0mself\u001b[0m\u001b[1;33m)\u001b[0m\u001b[1;33m:\u001b[0m\u001b[1;33m\u001b[0m\u001b[1;33m\u001b[0m\u001b[0m\n",
      "\u001b[1;31mAttributeError\u001b[0m: 'KMeansModel' object has no attribute '_jdf'"
     ]
    }
   ],
   "source": [
    "from pyspark.ml.evaluation import ClusteringEvaluator\n",
    "evaluator = ClusteringEvaluator()\n",
    "\n",
    "evaluator.evaluate(kmModel)"
   ]
  },
  {
   "cell_type": "code",
   "execution_count": 42,
   "id": "7aa8ef90-513e-4b92-b3f8-cb608173f740",
   "metadata": {},
   "outputs": [],
   "source": [
    "spark.stop()"
   ]
  }
 ],
 "metadata": {
  "kernelspec": {
   "display_name": "Python 3",
   "language": "python",
   "name": "python3"
  },
  "language_info": {
   "codemirror_mode": {
    "name": "ipython",
    "version": 3
   },
   "file_extension": ".py",
   "mimetype": "text/x-python",
   "name": "python",
   "nbconvert_exporter": "python",
   "pygments_lexer": "ipython3",
   "version": "3.7.7"
  }
 },
 "nbformat": 4,
 "nbformat_minor": 5
}
